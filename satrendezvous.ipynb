{
 "cells": [
  {
   "cell_type": "code",
   "execution_count": 4,
   "metadata": {},
   "outputs": [],
   "source": [
    "import numpy as np\n",
    "import matplotlib.pyplot as plt\n",
    "import matplotlib.animation as an"
   ]
  },
  {
   "cell_type": "code",
   "execution_count": 5,
   "metadata": {},
   "outputs": [],
   "source": [
    "class Base(object):\n",
    "    def __init__(self, r0 = 300000, deltaT = 1, fmax=1, mass = 1):\n",
    "        self.cg = 3.9886e14\n",
    "        self.rknot = r0\n",
    "        self.mu1 = np.sqrt(self.cg/self.rknot**3)\n",
    "        print(self.mu1, self.cg, self.rknot)\n",
    "        self.deltaT = deltaT\n",
    "        ndelt = self.mu1*deltaT\n",
    "        sin = np.sin(self.mu1*deltaT )\n",
    "        cos = np.cos(self.mu1*deltaT )\n",
    "        self.fmax = fmax\n",
    "        self.mass = mass\n",
    "\n",
    "        self.Ad = np.array([[4-3*cos,           0,      1/self.mu1*cos,         2/self.mu1*(1-cos)          ],\n",
    "                            [6*(sin-ndelt),     1,      -2/self.mu1*(1-cos),     1/self.mu1*(4*sin -3 *ndelt)],\n",
    "                            [3*self.mu1*sin,    0,      cos,                    2*sin],\n",
    "                            [6*(1-cos),        0,      -2*sin,                 4*cos-3]])\n",
    "\n",
    "\n",
    "        invn = 1/self.mu1\n",
    "        insqr = self.mu1**(-2)\n",
    "        self.Bd = fmax/mass * np.array([[insqr*(1-cos),         2*insqr*(ndelt-sin)],\n",
    "                            [-2*insqr*(ndelt-sin),  4*insqr*(1-cos)-3/2*deltaT**2],\n",
    "                            [insqr*sin,             2*insqr*(1-cos)],\n",
    "                            [-2*insqr*(1-cos),       4*insqr*sin - 3 * deltaT]])\n",
    "\n",
    "        print(self.Ad)\n",
    "        print(self.Bd)\n",
    "\n",
    "\n",
    "\n",
    "class Chaser(Base):\n",
    "    def __init__(self, r0=300000, deltaT=1):\n",
    "        Base.__init__(self, r0,deltaT)"
   ]
  },
  {
   "cell_type": "code",
   "execution_count": 21,
   "metadata": {},
   "outputs": [],
   "source": [
    "class Controller():\n",
    "    def __init__(self, A, B, Q, R, Qf, umin, umax, dt):\n",
    "        ##### INPUTS: \n",
    "        # A: a numpy array of shape (m, m) representing the A matrix in discrete LTI state space form\n",
    "        # B: a numpy array of shape (m, n) representing the B matrix in discrete LTI state space form\n",
    "        # Q: \n",
    "        # R: \n",
    "        # Qf: \n",
    "        # umin: a numpy array of shape (m, 1) describing the min thrust the chaser is capable of (described in the frame of the chaser)\n",
    "        # umax: a numpy array of shape (m, 1) describing the max thrust the chaser is capable of (described in the frame of the chaser)\n",
    "        # dt: \n",
    "        self.A = A\n",
    "        self.B = B\n",
    "        self.m = A.shape[0]\n",
    "        self.n = B.shape[1]\n",
    "        self.Q = Q\n",
    "        self.R = R\n",
    "        self.Qf = Qf\n",
    "        self.umin = umin\n",
    "        self.umax = umax\n",
    "        self.dt = dt\n",
    "        \n",
    "        ##### Run LQR to find P and K\n",
    "        P_now = Qf\n",
    "        K_now = np.zeros((self.n,1))\n",
    "        P_prev = np.zeros((self.m,self.m))\n",
    "        K_prev = np.zeros((self.n,1))\n",
    "\n",
    "        while not np.allclose(P_now,P_prev):\n",
    "            P_now = np.copy(P_prev)\n",
    "            K_now = np.copy(K_prev)\n",
    "            P_prev = self.Q + np.dot(np.transpose(K_now),np.dot(self.R,K_now)) + np.transpose(self.A - np.dot(self.B, K_now))*P_now*(self.A - np.dot(self.B, K_now))\n",
    "            K_prev = np.dot(np.linalg.inv(self.R + np.dot(np.transpose(self.B), np.dot(P_now, self.B))), np.dot(np.transpose(self.B), np.dot(P_now, self.A)))\n",
    "        self.K = K_prev\n",
    "        self.P = P_prev\n",
    "        \n",
    "        \n",
    "    def lqr(xhat, P, Np, Nc, rport, omega):\n",
    "        ##### INPUTS: \n",
    "        # xhat: a numpy array of shape (n, 1) representing the current state estimate (mean)\n",
    "        # P: a numpy array of shape (n, n) representing the covariance uncertainty on the state estimate\n",
    "        # Np: an int representing the prediction horizon (steps)\n",
    "        # Nc: an int representing the control horizon (steps)\n",
    "        # rport: a numpy array of shape (n/2,1) describing the x,y \n",
    "        \n",
    "        ##### OUTPUTS: \n",
    "        # xpredictions: a numpy array of shape (Np + 1, m)\n",
    "        # upredictions: a numpy array of shape (Np, n) representing the sequence of control inputs that is optimal over the prediction horizon, Np\n",
    "        # u: a numpy array of shape (Nc, 2) representing the sequence of control inputs that is optimal over the control horizon, Nc. This is used to determine the next Nc control inputs\n",
    "\n",
    "        # initialize the xpredictions matrix\n",
    "        xpredictions = np.zeros((Np,self.m))\n",
    "        # initalize upredictions\n",
    "        upredictions = np.zeros((Np,self.n))\n",
    "        # initialize u\n",
    "        u = np.zeros((Nc,self.n))\n",
    "        # initialize the array of states of the docking port for tracking\n",
    "        xport = np.zeros((Np, m))\n",
    "        # populate xport with the evolution of the docking port state over time including in [x,y,xdot,ydot]\n",
    "        \n",
    "                            \n",
    "        # calculate the optimal u over Np by u = K_t x_t\n",
    "\n",
    "        # populate the optimal u over Nc\n",
    "\n",
    "        # use the optimal outputs over Np to populate xprediction\n",
    "\n",
    "\n",
    "        return xprediction, upredictions, u\n",
    "\n",
    "\n"
   ]
  },
  {
   "cell_type": "code",
   "execution_count": null,
   "metadata": {},
   "outputs": [],
   "source": [
    "        ##### Run LQR to find P and K\n",
    "        # for a description of the algorithm, see pg 23 of https://stanford.edu/class/ee363/lectures/dlqr.pdf\n",
    "        \n",
    "        # initialize array of Pn for the LQR\n",
    "#         Pn = np.zeros(Np, m, m)\n",
    "#         Pn[Np-1,:,:] = Qf\n",
    "        # iterate backwards from N,...,1 and populate P by the equation for P_{t-1}\n",
    "\n",
    "        # iterate forwards from 0,...,N-1 and define K_t\n",
    "#         self.Ks = np.zeros(Np, m, m)"
   ]
  },
  {
   "cell_type": "code",
   "execution_count": 22,
   "metadata": {
    "scrolled": true
   },
   "outputs": [
    {
     "name": "stdout",
     "output_type": "stream",
     "text": [
      "0.12154255465717591 398860000000000.0 300000\n",
      "[[ 1.00000222e+00  0.00000000e+00  8.22756494e+00  1.21542540e-05]\n",
      " [-1.79549851e-09  1.00000000e+00 -1.21542540e-05  9.99999015e-03]\n",
      " [ 4.43177669e-04  0.00000000e+00  9.99999261e-01  2.43085049e-03]\n",
      " [ 4.43177723e-06  0.00000000e+00 -2.43085049e-03  9.99997045e-01]]\n",
      "[[ 4.99999938e-05  4.05141819e-08]\n",
      " [-4.05141819e-08  4.99999754e-05]\n",
      " [ 8.22756899e-02  9.99999877e-05]\n",
      " [-9.99999877e-05  2.99102760e-01]]\n"
     ]
    }
   ],
   "source": [
    "base = Base(deltaT = 0.01)"
   ]
  },
  {
   "cell_type": "code",
   "execution_count": 23,
   "metadata": {},
   "outputs": [],
   "source": [
    "Q = np.eye(base.Ad.shape[0])\n",
    "R = 10 * np.eye(base.Bd.shape[1])\n",
    "Qf = 3 * np.eye(base.Ad.shape[0])\n",
    "umin = -1.0 * np.ones((2,1))\n",
    "umax = np.ones((2,1))\n",
    "ctrl = Controller(base.Ad, base.Bd, Q, R, Qf, umin, umax)"
   ]
  },
  {
   "cell_type": "code",
   "execution_count": null,
   "metadata": {},
   "outputs": [],
   "source": [
    "def fitSpiral(xpred, omega, r0):\n",
    "    ##### INPUTS:\n",
    "    # xpred: sequence of predictions to fit the Archimedes Spiral to\n",
    "    # omega: \n",
    "    # r0: \n",
    "    ##### OUTPUTS:\n",
    "    # b\n",
    "    # c"
   ]
  },
  {
   "cell_type": "code",
   "execution_count": null,
   "metadata": {},
   "outputs": [],
   "source": [
    "def mapFeasibility():\n",
    "    pass"
   ]
  }
 ],
 "metadata": {
  "kernelspec": {
   "display_name": "Python 3",
   "language": "python",
   "name": "python3"
  },
  "language_info": {
   "codemirror_mode": {
    "name": "ipython",
    "version": 3
   },
   "file_extension": ".py",
   "mimetype": "text/x-python",
   "name": "python",
   "nbconvert_exporter": "python",
   "pygments_lexer": "ipython3",
   "version": "3.6.9"
  }
 },
 "nbformat": 4,
 "nbformat_minor": 4
}
