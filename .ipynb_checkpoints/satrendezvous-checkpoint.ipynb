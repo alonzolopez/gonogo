{
 "cells": [
  {
   "cell_type": "code",
   "execution_count": 50,
   "metadata": {},
   "outputs": [
    {
     "data": {
      "text/html": [
       "        <script type=\"text/javascript\">\n",
       "        window.PlotlyConfig = {MathJaxConfig: 'local'};\n",
       "        if (window.MathJax) {MathJax.Hub.Config({SVG: {font: \"STIX-Web\"}});}\n",
       "        if (typeof require !== 'undefined') {\n",
       "        require.undef(\"plotly\");\n",
       "        requirejs.config({\n",
       "            paths: {\n",
       "                'plotly': ['https://cdn.plot.ly/plotly-latest.min']\n",
       "            }\n",
       "        });\n",
       "        require(['plotly'], function(Plotly) {\n",
       "            window._Plotly = Plotly;\n",
       "        });\n",
       "        }\n",
       "        </script>\n",
       "        "
      ]
     },
     "metadata": {},
     "output_type": "display_data"
    }
   ],
   "source": [
    "import numpy as np\n",
    "import matplotlib.pyplot as plt\n",
    "import matplotlib.animation as an\n",
    "import math\n",
    "\n",
    "import plotly.graph_objects as go\n",
    "import plotly.io as pio\n",
    "pio.renderers.default='notebook'\n",
    "from plotly.offline import download_plotlyjs, init_notebook_mode, plot, iplot\n",
    "init_notebook_mode(connected=True)\n",
    "import plotly.figure_factory as ff\n"
   ]
  },
  {
   "cell_type": "code",
   "execution_count": 38,
   "metadata": {},
   "outputs": [],
   "source": [
    "class Base(object):\n",
    "    def __init__(self, r0 = 300000, deltaT = 1, fmax=1, mass = 1):\n",
    "        self.cg = 3.9886e14\n",
    "        self.rknot = r0\n",
    "        self.mu1 = np.sqrt(self.cg/self.rknot**3)\n",
    "        print(self.mu1, self.cg, self.rknot)\n",
    "        self.deltaT = deltaT\n",
    "        ndelt = self.mu1*deltaT\n",
    "        sin = np.sin(self.mu1*deltaT )\n",
    "        cos = np.cos(self.mu1*deltaT )\n",
    "        self.fmax = fmax\n",
    "        self.mass = mass\n",
    "\n",
    "        self.Ad = np.array([[4-3*cos,           0,      1/self.mu1*cos,         2/self.mu1*(1-cos)          ],\n",
    "                            [6*(sin-ndelt),     1,      -2/self.mu1*(1-cos),     1/self.mu1*(4*sin -3 *ndelt)],\n",
    "                            [3*self.mu1*sin,    0,      cos,                    2*sin],\n",
    "                            [6*(1-cos),        0,      -2*sin,                 4*cos-3]])\n",
    "\n",
    "\n",
    "        invn = 1/self.mu1\n",
    "        insqr = self.mu1**(-2)\n",
    "        self.Bd = fmax/mass * np.array([[insqr*(1-cos),         2*insqr*(ndelt-sin)],\n",
    "                            [-2*insqr*(ndelt-sin),  4*insqr*(1-cos)-3/2*deltaT**2],\n",
    "                            [insqr*sin,             2*insqr*(1-cos)],\n",
    "                            [-2*insqr*(1-cos),       4*insqr*sin - 3 * deltaT]])\n",
    "\n",
    "#         print(self.Ad)\n",
    "#         print(self.Bd)\n",
    "\n",
    "\n",
    "\n",
    "class Chaser(Base):\n",
    "    def __init__(self, r0=300000, deltaT=1):\n",
    "        Base.__init__(self, r0,deltaT)"
   ]
  },
  {
   "cell_type": "code",
   "execution_count": 44,
   "metadata": {},
   "outputs": [],
   "source": [
    "class ArchimedesSpiral(object):\n",
    "    def __init__(self, r0, rf, w, b, c, H):\n",
    "        self.r0 = r0\n",
    "        self.rf = rf\n",
    "        self.w = w\n",
    "        self.b = b\n",
    "        self.c = c\n",
    "        self.tf = np.power((r0 - rf)/b, c)/w\n",
    "        self.t = np.linspace(0, self.tf, H)\n",
    "        self.rt = r0 - b*np.power(w*self.t, 1/c)\n",
    "        self.angle = self.t * w\n",
    "        self.x = self.rt * np.cos(self.angle)\n",
    "        self.y = self.rt * np.sin(self.angle)\n",
    "\n",
    "    def showSpiral(self):\n",
    "        plt.figure(figsize=[6,6])\n",
    "        plt.plot(self.x,self.y)\n",
    "        plt.xlim(-5/4* self.r0, 5/4*self.r0)\n",
    "        plt.ylim(-5/4* self.r0, 5/4*self.r0)\n",
    "        plt.grid()\n",
    "        plt.show()"
   ]
  },
  {
   "cell_type": "code",
   "execution_count": 45,
   "metadata": {},
   "outputs": [
    {
     "data": {
      "image/png": "[encoded data removed]",
      "text/plain": [
       "<Figure size 432x432 with 1 Axes>"
      ]
     },
     "metadata": {
      "needs_background": "light"
     },
     "output_type": "display_data"
    },
    {
     "name": "stdout",
     "output_type": "stream",
     "text": [
      "0.12154255465717591 398860000000000.0 300000\n",
      "[[ 1.00000222e+00  0.00000000e+00  8.22756494e+00  1.21542540e-05]\n",
      " [-1.79549851e-09  1.00000000e+00 -1.21542540e-05  9.99999015e-03]\n",
      " [ 4.43177669e-04  0.00000000e+00  9.99999261e-01  2.43085049e-03]\n",
      " [ 4.43177723e-06  0.00000000e+00 -2.43085049e-03  9.99997045e-01]]\n",
      "[[ 4.99999938e-05  4.05141819e-08]\n",
      " [-4.05141819e-08  4.99999754e-05]\n",
      " [ 8.22756899e-02  9.99999877e-05]\n",
      " [-9.99999877e-05  2.99102760e-01]]\n"
     ]
    }
   ],
   "source": [
    "r0 = 10\n",
    "rf = 1\n",
    "w = 0.1\n",
    "c = 1\n",
    "b = .5\n",
    "H =1000\n",
    "spiral = ArchimedesSpiral(r0, rf, w, b, c, H)\n",
    "spiral.showSpiral()\n",
    "chaser = Chaser(deltaT = 0.01)"
   ]
  },
  {
   "cell_type": "code",
   "execution_count": 39,
   "metadata": {},
   "outputs": [],
   "source": [
    "class Controller():\n",
    "    def __init__(self, A, B, Q, R, Qf, umin, umax, dt=0.01):\n",
    "        ##### INPUTS: \n",
    "        # A: a numpy array of shape (n,n) representing the A matrix in discrete LTI state space form\n",
    "        # B: a numpy array of shape (n,m) representing the B matrix in discrete LTI state space form\n",
    "        # Q: \n",
    "        # R: \n",
    "        # Qf: \n",
    "        # umin: a numpy array of shape (n, 1) describing the min thrust the chaser is capable of (described in the frame of the chaser)\n",
    "        # umax: a numpy array of shape (n, 1) describing the max thrust the chaser is capable of (described in the frame of the chaser)\n",
    "        # dt: \n",
    "        self.A = A\n",
    "        self.B = B\n",
    "        self.n = A.shape[0] # dimensionality\n",
    "        self.m = B.shape[1] # number of control inputs\n",
    "        self.Q = Q\n",
    "        self.R = R\n",
    "        self.Qf = Qf\n",
    "        self.umin = umin\n",
    "        self.umax = umax\n",
    "        self.dt = dt\n",
    "        \n",
    "        ##### Run LQR to find P and K\n",
    "        P_now = Qf\n",
    "        K_now = np.zeros((self.m,self.n))\n",
    "        P_prev = np.zeros((self.n,self.n))\n",
    "        K_prev = np.zeros((self.m,self.n))\n",
    "\n",
    "        while not np.allclose(P_now,P_prev):\n",
    "            P_now = np.copy(P_prev)\n",
    "            K_now = np.copy(K_prev)\n",
    "            P_prev = self.Q + np.dot(np.transpose(K_now),np.dot(self.R,K_now)) + np.transpose(self.A - np.dot(self.B, K_now))*P_now*(self.A - np.dot(self.B, K_now))\n",
    "            K_prev = np.dot(np.linalg.inv(self.R + np.dot(np.transpose(self.B), np.dot(P_now, self.B))), np.dot(np.transpose(self.B), np.dot(P_now, self.A)))\n",
    "        self.K = K_prev\n",
    "        self.P = P_prev\n",
    "        print(\"Instantiated controller gains\")\n",
    "        \n",
    "        \n",
    "    def lqr(xhat, P, Np, Nc, rport, omega):\n",
    "        ##### INPUTS: \n",
    "        # xhat: a numpy array of shape (n, 1) representing the current state estimate (mean)\n",
    "        # P: a numpy array of shape (n, n) representing the covariance uncertainty on the state estimate\n",
    "        # Np: an int representing the prediction horizon (steps)\n",
    "        # Nc: an int representing the control horizon (steps)\n",
    "        # rport: a numpy array of shape (n/2,1) describing the x,y \n",
    "        \n",
    "        ##### OUTPUTS: \n",
    "        # xpredictions: a numpy array of shape (Np + 1, m)\n",
    "        # upredictions: a numpy array of shape (Np, n) representing the sequence of control inputs that is optimal over the prediction horizon, Np\n",
    "        # u: a numpy array of shape (Nc, 2) representing the sequence of control inputs that is optimal over the control horizon, Nc. This is used to determine the next Nc control inputs\n",
    "\n",
    "        # initialize the xpredictions matrix\n",
    "        xpredictions = np.zeros((Np+1,self.n))\n",
    "        xpredictions[0,:] = xhat\n",
    "        \n",
    "        # initalize upredictions\n",
    "        upredictions = np.zeros((Np,self.m))\n",
    "        \n",
    "        # initialize the array of states of the docking port for tracking\n",
    "        xport = np.zeros((Np+1, self.n))\n",
    "        theta0 = np.arctan2(rport[1,0], rport[0,0])\n",
    "        \n",
    "        \n",
    "        # initialize the array of difference vectors xport-xpredictions to use for control\n",
    "        xdiff = np.zeros((Np,self.n))\n",
    "        \n",
    "        # populate xport with the evolution of the docking port state over time including in [x,y,xdot,ydot]\n",
    "        for i in range(Np):\n",
    "            # calculate the current docking port position\n",
    "            thetat = omega * (i * self.dt) + theta0\n",
    "            xport[i,0] = np.cos(thetat)+ theta0\n",
    "            xport[i,1] = np.sin(thetat)+ theta0\n",
    "            xport[i,2] = -np.sin(thetat) * omega\n",
    "            xport[i,3] = np.cos(thetat) * omega\n",
    "            \n",
    "            # calculate the difference between the predicted state and docking port state\n",
    "            xdiff[i,:] = xpredictions[i,:] - xport[i,:]\n",
    "            \n",
    "            # calculate the max u vector at this orientation\n",
    "            RTC = np.array([\n",
    "                [-np.sin(thetat), -np.cos(thetat)],\n",
    "                [np.cos(thetat), -np.sin(thetat)]\n",
    "            ])\n",
    "            RCT = np.transpose(RTC)\n",
    "            umaxvec = np.dot(RTC, self.max)\n",
    "            uminvec = np.dot(RTC, self.min)\n",
    "            \n",
    "            # calculate the optimal u over Np by u = K_t x_t\n",
    "            upredictions[i,:] = np.clip(np.dot(self.K, xdiff[i,:]), umaxvec, uminvec)\n",
    "            \n",
    "            # populate the optimal control sequence in the chaser's frame over Nc if i < Nc\n",
    "            if i < Nc:\n",
    "                ucframe = np.dot(RCT, upredictions[i,:])\n",
    "\n",
    "            # use the optimal outputs over Np to populate xprediction\n",
    "            xpredictions[i+1,:] = np.dot(self.A, xpredictions[i,:]) + np.dot(self.B, upredictions[i,:])\n",
    "        \n",
    "        # populate the optimal control sequence over Nc in the target's frame\n",
    "        utframe = upredictions[0:Nc,:]\n",
    "            \n",
    "\n",
    "        return xprediction, upredictions, utframe, ucframe\n",
    "\n",
    "\n"
   ]
  },
  {
   "cell_type": "code",
   "execution_count": 40,
   "metadata": {},
   "outputs": [],
   "source": [
    "##### Run LQR to find P and K\n",
    "# for a description of the algorithm, see pg 23 of https://stanford.edu/class/ee363/lectures/dlqr.pdf\n",
    "\n",
    "# initialize array of Pn for the LQR\n",
    "# Pn = np.zeros(Np, m, m)\n",
    "# Pn[Np-1,:,:] = Qf\n",
    "# iterate backwards from N,...,1 and populate P by the equation for P_{t-1}\n",
    "\n",
    "# iterate forwards from 0,...,N-1 and define K_t\n",
    "# self.Ks = np.zeros(Np, m, m)"
   ]
  },
  {
   "cell_type": "code",
   "execution_count": 41,
   "metadata": {
    "scrolled": true
   },
   "outputs": [
    {
     "name": "stdout",
     "output_type": "stream",
     "text": [
      "0.12154255465717591 398860000000000.0 300000\n",
      "[[ 1.00000222e+00  0.00000000e+00  8.22756494e+00  1.21542540e-05]\n",
      " [-1.79549851e-09  1.00000000e+00 -1.21542540e-05  9.99999015e-03]\n",
      " [ 4.43177669e-04  0.00000000e+00  9.99999261e-01  2.43085049e-03]\n",
      " [ 4.43177723e-06  0.00000000e+00 -2.43085049e-03  9.99997045e-01]]\n",
      "[[ 4.99999938e-05  4.05141819e-08]\n",
      " [-4.05141819e-08  4.99999754e-05]\n",
      " [ 8.22756899e-02  9.99999877e-05]\n",
      " [-9.99999877e-05  2.99102760e-01]]\n"
     ]
    }
   ],
   "source": [
    "base = Base(deltaT = 0.01)"
   ]
  },
  {
   "cell_type": "code",
   "execution_count": 42,
   "metadata": {},
   "outputs": [
    {
     "name": "stdout",
     "output_type": "stream",
     "text": [
      "Instantiated controller gains\n"
     ]
    }
   ],
   "source": [
    "Q = np.eye(base.Ad.shape[0])\n",
    "R = 10 * np.eye(base.Bd.shape[1])\n",
    "Qf = 3 * np.eye(base.Ad.shape[0])\n",
    "umin = -1.0 * np.ones((2,1))\n",
    "umax = np.ones((2,1))\n",
    "ctrl = Controller(base.Ad, base.Bd, Q, R, Qf, umin, umax)"
   ]
  },
  {
   "cell_type": "code",
   "execution_count": 46,
   "metadata": {
    "scrolled": true
   },
   "outputs": [
    {
     "name": "stdout",
     "output_type": "stream",
     "text": [
      "s_i:\n",
      " [[-8.17713614]\n",
      " [ 9.15080881]\n",
      " [ 0.53566783]\n",
      " [-0.42655687]]\n"
     ]
    }
   ],
   "source": [
    "# Randomized Initial State\n",
    "xmin = -10\n",
    "xmax = -xmin\n",
    "ymin = -10\n",
    "ymax = -ymin\n",
    "xdotmin = -1\n",
    "xdotmax = -xdotmin\n",
    "ydotmin = -1\n",
    "ydotmax = -ydotmin\n",
    "s_i = np.zeros((4,1)) \n",
    "s_i[0,0] = np.random.uniform(xmin, xmax)\n",
    "s_i[1,0] = np.random.uniform(ymin, ymax)\n",
    "s_i[2,0] = np.random.uniform(xdotmin, xdotmax)\n",
    "s_i[3,0] = np.random.uniform(ydotmin, ydotmax)\n",
    "print(\"s_i:\\n\", s_i)"
   ]
  },
  {
   "cell_type": "code",
   "execution_count": 51,
   "metadata": {},
   "outputs": [],
   "source": [
    "class Simulator():\n",
    "    def __init__(self, r0 = 300000, fmax=1, mass=1, Q = np.eye(4), R = 10*np.eye(2), Qf = 3 * np.eye(4), maxbounds = 10, maxvel = 1, omegamax=10):\n",
    "        self.dt = 0.01\n",
    "        self.umin = -np.ones((2,1))\n",
    "        self.umax = np.ones((2,1))\n",
    "        self.base = Base(r0, dt, fmax, mass)\n",
    "        self.ctrl = Controller(self.base.Ad, self.base.Bd, Q, R, Qf, umin, umax)\n",
    "        self.xmin = -maxbounds\n",
    "        self.xmax = maxbounds\n",
    "        self.ymin = -maxbounds\n",
    "        self.ymax = maxbounds\n",
    "        self.xdotmin = -maxvel\n",
    "        self.ydotmax = maxvel\n",
    "        self.xdotmin = -maxvel\n",
    "        self.ydotmax = maxvel\n",
    "        self.omegamax = omegamax # rad/s\n",
    "        self.omegamin = -self.omegamax\n",
    "        \n",
    "        \n",
    "    def step(self, x):\n",
    "        ##### INPUTS\n",
    "        # x: the true state\n",
    "        # \n",
    "        pass\n",
    "    \n",
    "    def monteCarloRun(self):\n",
    "        s_i = np.zeros((4,1)) \n",
    "        s_i[0,0] = np.random.uniform(self.xmin, self.xmax)\n",
    "        s_i[1,0] = np.random.uniform(self.ymin, self.ymax)\n",
    "        s_i[2,0] = np.random.uniform(self.xdotmin, self.xdotmax)\n",
    "        s_i[3,0] = np.random.uniform(self.ydotmin, self.ydotmax)\n",
    "        omega = np.random.uniform(self.omegamin, self.omegamax)\n",
    "        theta = np.random.uniform(-math.pi, math.pi)\n",
    "        S = [s_i]\n",
    "        E = []\n",
    "        while True:\n",
    "            s_new = step(S[-1],np.dot(-K,S[-1]))\n",
    "            S.append(s_new)\n",
    "            E.append((S[-2],S[-1]))\n",
    "            if goal_reached(s_new, s_f):\n",
    "                return S, E\n",
    "        \n",
    "        \n",
    "        \n",
    "        "
   ]
  },
  {
   "cell_type": "code",
   "execution_count": null,
   "metadata": {},
   "outputs": [],
   "source": [
    "S = [s_i]\n",
    "E = []\n",
    "while True:\n",
    "    s_new = step(S[-1],np.dot(-K,S[-1]))\n",
    "    S.append(s_new)\n",
    "    E.append((S[-2],S[-1]))\n",
    "    if goal_reached(s_new, s_f):\n",
    "        return S, E\n",
    "S, E = demo(K_prev)"
   ]
  },
  {
   "cell_type": "code",
   "execution_count": null,
   "metadata": {},
   "outputs": [],
   "source": [
    "def fitSpiral(xpred, omega, r0):\n",
    "    ##### INPUTS:\n",
    "    # xpred: sequence of predictions to fit the Archimedes Spiral to\n",
    "    # omega: \n",
    "    # r0: \n",
    "    ##### OUTPUTS:\n",
    "    # b\n",
    "    # c"
   ]
  },
  {
   "cell_type": "code",
   "execution_count": null,
   "metadata": {},
   "outputs": [],
   "source": [
    "def mapFeasibility():\n",
    "    pass"
   ]
  }
 ],
 "metadata": {
  "kernelspec": {
   "display_name": "Python 3",
   "language": "python",
   "name": "python3"
  },
  "language_info": {
   "codemirror_mode": {
    "name": "ipython",
    "version": 3
   },
   "file_extension": ".py",
   "mimetype": "text/x-python",
   "name": "python",
   "nbconvert_exporter": "python",
   "pygments_lexer": "ipython3",
   "version": "3.6.9"
  }
 },
 "nbformat": 4,
 "nbformat_minor": 4
}
